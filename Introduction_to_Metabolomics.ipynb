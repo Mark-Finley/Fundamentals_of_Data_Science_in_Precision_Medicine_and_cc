{
 "cells": [
  {
   "cell_type": "markdown",
   "metadata": {
    "id": "vY8bbwzwd7Cn"
   },
   "source": [
    "<img src=\"materials/images/introduction-metabolomics-cover.png\"/>"
   ]
  },
  {
   "cell_type": "markdown",
   "metadata": {
    "id": "YuqfVNcw8xE0"
   },
   "source": [
    "# Introduction to Metabolomics"
   ]
  },
  {
   "cell_type": "markdown",
   "metadata": {
    "id": "bYO9g_Oe8xE1"
   },
   "source": [
    "`🕒 This module should take 30 minutes to complete.`\n",
    "\n",
    "`✍️ This notebook is written using Python.`"
   ]
  },
  {
   "cell_type": "markdown",
   "metadata": {
    "id": "Ihwg32O98xE2"
   },
   "source": [
    "<div class=\"alert alert-block alert-info\">\n",
    "<h3>⌨️ Keyboard shortcut</h3>\n",
    "\n",
    "These common shortcut could save your time going through this notebook:\n",
    "- Run the current cell: **`Enter + Shift`**.\n",
    "- Add a cell above the current cell: Press **`A`**.\n",
    "- Add a cell below the current cell: Press **`B`**.\n",
    "- Change a code cell to markdown cell: Select the cell, and then press **`M`**.\n",
    "- Delete a cell: Press **`D`** twice.\n",
    "\n",
    "Need more help with keyboard shortcut? Press **`H`** to look it up.\n",
    "</div>"
   ]
  },
  {
   "cell_type": "markdown",
   "metadata": {
    "id": "kW-dr4xN8xE3"
   },
   "source": [
    "---"
   ]
  },
  {
   "cell_type": "markdown",
   "metadata": {
    "id": "eBM0JrgsNg_7"
   },
   "source": [
    "## What is metabolomics?\n",
    "\n",
    "Metabolomics is the scientific study of the set of metabolites present within an organism, cell, or tissue. Scientists find studying metabolomics useful because it reveals the unique “chemical fingerprints” that help them track different biological processes that are happening in the body [1]. \n",
    "\n",
    "For example, if you donate your blood samples to a scientist after you eat a healthy high fiber lunch (eg. a colorful salad with spinach, red pepper, black beans), versus a high fat and high carb lunch (e.g., a bowl of spaghetti with meatballs), the scientist can see different metabolites compositions in your blood samples. The different metabolites compositions are the result of your body trying to break down the meals in those two different lunch scenarios. \n"
   ]
  },
  {
   "cell_type": "markdown",
   "metadata": {
    "id": "hMTS8VOON0lx"
   },
   "source": [
    "> #### Apply what you learned:\n",
    "> \n",
    "> Next time you hear the phrase “You are what you eat”, you will know it is true from the metabolomics perspective [2]. Having healthier diets that contain diverse fibers and proteins creates metabolites in your body that allows you to function more efficiently, such as having better attention, athletic performance, and immune responses. Adding something healthy in your meal each day is the most under-rated, economic, and effective way to lead a better quality life. Moreover, It is an exercise of learning to spontaneously follow disciplines. The earlier you start, the more you will see the compounded benefits it brings to your study, work, relationship with yourself and other people.\n"
   ]
  },
  {
   "cell_type": "markdown",
   "metadata": {
    "id": "V2cp1-ulVuhF"
   },
   "source": [
    "---"
   ]
  },
  {
   "cell_type": "markdown",
   "metadata": {
    "id": "oYybyNj_OW5h"
   },
   "source": [
    "### What are the metabolites? \n",
    "\n",
    "Metabolites are made or used when the body breaks down food, drugs or chemicals [3]. By identifying and measuring the metabolites in a biological sample, we could tell what biological processes are happening in the sample. \n"
   ]
  },
  {
   "cell_type": "markdown",
   "metadata": {
    "id": "9-xyZYH8U7Y2"
   },
   "source": [
    "Metabolite profiles (i.e. the metabolites compositions) vary between individuals as it is a product of microbial, genetic and environmental factors. This is why studying metabolomics is important. It helps us understand the underlying biochemical activity and state of cells or tissues [4] when the person is under the influence of microbial, genetic, and environmental factors. "
   ]
  },
  {
   "cell_type": "markdown",
   "metadata": {
    "id": "PYPxn0NOeJeW"
   },
   "source": [
    "<img src=\"materials/images/metabolism.png\"/>"
   ]
  },
  {
   "cell_type": "markdown",
   "metadata": {
    "id": "I19USgyClqXf"
   },
   "source": [
    "Metabolites can be grouped into four major classes [5]: \n",
    "1. Xenobiotics\n",
    "2. Genome\n",
    "3. Gut Microflora\n",
    "4. Environment\n",
    "\n"
   ]
  },
  {
   "cell_type": "markdown",
   "metadata": {
    "id": "RxnUm0jGePFh"
   },
   "source": [
    "<img src=\"materials/images/types-of-metabolites.png\"/>"
   ]
  },
  {
   "cell_type": "markdown",
   "metadata": {
    "id": "o9SyP_iwVe95"
   },
   "source": [
    "### What is metabolome?\n",
    "\n",
    "Metabolome is the total collection of metabolites presented within an organism, cell, or tissue. It is the product of gene expression and protein activity. \n",
    "To make the distinction from the word “metabolomics”, which refers to the academic field, “metabolome” refers to what the scientists in metabolomics are studying.\n"
   ]
  },
  {
   "cell_type": "markdown",
   "metadata": {
    "id": "7qcOfBi4VzV6"
   },
   "source": [
    "---"
   ]
  },
  {
   "cell_type": "markdown",
   "metadata": {
    "id": "6Wpns7MFVxgd"
   },
   "source": [
    "## How to quantify metabolomics?"
   ]
  },
  {
   "cell_type": "markdown",
   "metadata": {
    "id": "awcD-CraWSj8"
   },
   "source": [
    "Similar to proteomics, we also use mass spectrometry for metabolomics to measure the mass-to-charge ratio (m/z) of one or more molecules presented in a sample. The m/z ratio is important information that helps us understand the identity of the metabolic feature (e.g. metabolite).\n"
   ]
  },
  {
   "cell_type": "markdown",
   "metadata": {
    "id": "zZswKjwAeW2V"
   },
   "source": [
    "<img src=\"materials/images/quantify-metabolomics.png\"/>"
   ]
  },
  {
   "cell_type": "markdown",
   "metadata": {
    "id": "z_HJLBFTV5RL"
   },
   "source": [
    "---"
   ]
  },
  {
   "cell_type": "markdown",
   "metadata": {
    "id": "DUO2IfGnWktN"
   },
   "source": [
    "## What are the major applications of metabolomics?\n",
    "\n",
    "Metabolomics covers a wide range of applications, such as human diseases, plant biotechnology, and pharmacology.\n",
    "\n",
    "The human metabolome probably consists of far more than a million endogenous and exogenous compounds. Blood is the matrix of choice to study human disease because it is easy to collect, and is an integrated map of all tissues in the body.\n",
    "\n",
    "Studies show that metabolic profile impacts progression of Alzheimer's disease (AD) [6]. For example, oxidative stress is a condition when antioxidant levels are low in the body. This condition creates an imbalance between free radicals and antioxidants. Free radicals react easily with other molecules and if there are more free radicals compared to antioxidants, then free radicals can start doing damage  to DNA and proteins [7].\n"
   ]
  },
  {
   "cell_type": "markdown",
   "metadata": {
    "id": "25A5QWtYVdp1"
   },
   "source": [
    "---"
   ]
  },
  {
   "cell_type": "markdown",
   "metadata": {
    "id": "whvwX1whW1HT"
   },
   "source": [
    "#### References:\n",
    "\n",
    "[1] Metabolomics. (2022); last accessed August 26, 2022, from https://en.wikipedia.org/wiki/Metabolomics\n",
    "\n",
    "[2] https://www.youtube.com/watch?v=kWch9J0EGG8, last accessed Aug 26, 2022.\n",
    "\n",
    "[3] https://www.cancer.gov/publications/dictionaries/cancer-terms/def/metabolite, last accessed Aug 23, 2022.\n",
    "\n",
    "[4] https://www.ebi.ac.uk/training/online/courses/metabolomics-introduction/what-is/, last accessed Aug 23, 2022.\n",
    "\n",
    "[5] Johnson, C. H., Patterson, A. D., Idle, J. R., & Gonzalez, F. J. (2012). Xenobiotic metabolomics: major impact on the metabolome. Annual review of pharmacology and toxicology, 52, 37.\n",
    "\n",
    "[6] Orešič, M., Hyötyläinen, T., Herukka, S. K., Sysi-Aho, M., Mattila, I., Seppänan-Laakso, T., ... & Soininen, H. (2011). Metabolome in progression to Alzheimer's disease. Translational psychiatry, 1(12), e57-e57.\n",
    "\n",
    "[7] https://www.healthline.com/health/oxidative-stress, last accessed Aug 26, 2022."
   ]
  },
  {
   "cell_type": "markdown",
   "metadata": {
    "id": "XepuSn-UW-bg"
   },
   "source": [
    "---"
   ]
  },
  {
   "cell_type": "code",
   "execution_count": null,
   "metadata": {
    "id": "q2wyW08dYKDf"
   },
   "outputs": [],
   "source": [
    "import pandas as pd\n",
    "\n",
    "data = pd.read_csv('data/metabolome_abundance.txt', sep='\\t', index_col=0)\n",
    "data.iloc[0:8, 0:8]"
   ]
  },
  {
   "cell_type": "markdown",
   "metadata": {
    "id": "IaSJNcpO_Jt1"
   },
   "source": [
    "Here, we see that our metabolite names are coded, and can be found in the Excel file `iPOP_Metablolite_Annotation.xlsx`. "
   ]
  },
  {
   "cell_type": "code",
   "execution_count": null,
   "metadata": {
    "id": "WrDY4ZCpPd1T"
   },
   "outputs": [],
   "source": [
    "metabolites = pd.read_excel('data/iPOP_Metablolite_Annotation.xlsx')\n",
    "metabolites.iloc[0:10, ]"
   ]
  },
  {
   "cell_type": "code",
   "execution_count": null,
   "metadata": {
    "id": "KLrIZFPDCJbA"
   },
   "outputs": [],
   "source": [
    "(nRows, nCols) = data.shape\n",
    "metadata = data.iloc[:, nCols-5:]\n",
    "data = data.iloc[:, :nCols-5]\n",
    "(nRows, nCols) = data.shape\n",
    "print('Our dataset contains the abundance data for', nCols, 'metabolites from', nRows, 'samples.')"
   ]
  },
  {
   "cell_type": "code",
   "execution_count": null,
   "metadata": {
    "id": "pwjEN3ImYww5"
   },
   "outputs": [],
   "source": [
    "patientID = 'ZOZOW1T'\n",
    "patientData = data.filter(like=patientID, axis=0)\n",
    "patientData.iloc[0:8, 0:8]"
   ]
  },
  {
   "cell_type": "code",
   "execution_count": null,
   "metadata": {
    "id": "UczTbY7pY48C"
   },
   "outputs": [],
   "source": [
    "import numpy as np\n",
    "\n",
    "i = np.argmax(patientData.iloc[0, :])\n",
    "print(metabolites['Metabolite'][i], 'is the metabolite with the highest abundance in sample ZOZOW1T-01.')"
   ]
  },
  {
   "cell_type": "code",
   "execution_count": null,
   "metadata": {
    "id": "P9Ji2Y8gZQtc"
   },
   "outputs": [],
   "source": [
    "# *** Can use this code to preserve row and columns. However, it may be easier to append relative abundances to a list (like in Proteomics module) *** \n",
    "\n",
    "# relativeAbundance = np.empty_like(patientData)\n",
    "# for metabolite in range(patientData.shape[1]):\n",
    "#   maxAbundance = max(patientData.iloc[:, metabolite])\n",
    "#   relativeAbundance[:, metabolite] = patientData.iloc[:, metabolite] / maxAbundance\n",
    "# relativeAbundance = pd.DataFrame(relativeAbundance, columns=list(metabolites['Metabolite']), index=patientData.index)"
   ]
  },
  {
   "cell_type": "code",
   "execution_count": null,
   "metadata": {
    "id": "u6fuKpa1CaPO"
   },
   "outputs": [],
   "source": [
    "relativeAbundance = []\n",
    "for metabolite in range(patientData.shape[1]):\n",
    "  maxAbundance = max(patientData.iloc[:, metabolite])\n",
    "  relativeAbundance.append(patientData.iloc[:, metabolite] / maxAbundance)\n",
    "relativeAbundance = pd.DataFrame(relativeAbundance, index=list(metabolites['Metabolite']))"
   ]
  },
  {
   "cell_type": "code",
   "execution_count": null,
   "metadata": {
    "id": "WwBlrA5_AQBt"
   },
   "outputs": [],
   "source": [
    "relativeAbundance"
   ]
  },
  {
   "cell_type": "code",
   "execution_count": null,
   "metadata": {
    "id": "1rlUXZ7pZUSo"
   },
   "outputs": [],
   "source": [
    "import seaborn as sns\n",
    "\n",
    "df = relativeAbundance.iloc[0:20, 0:5]\n",
    "ax = sns.heatmap(df, vmin=0, vmax=1)\n",
    "ax.figure"
   ]
  },
  {
   "cell_type": "markdown",
   "metadata": {
    "id": "4UPc6hIQSexm"
   },
   "source": [
    "---"
   ]
  },
  {
   "cell_type": "markdown",
   "metadata": {
    "id": "D8ru-JkaShVZ"
   },
   "source": [
    "## Contributions & acknowledgement\n",
    "\n",
    "- **Module Content:** Ryan Park\n",
    "- **Engineering:** Amit Dixit\n",
    "- **UX/UI Design & Illustration:** Kexin Cha\n",
    "- **Video Production:** Francesca Goncalves\n",
    "- **Project Management:** Amir Bahmani, Kexin Cha"
   ]
  },
  {
   "cell_type": "markdown",
   "metadata": {
    "id": "gsre_6DrSkSs"
   },
   "source": [
    "---"
   ]
  },
  {
   "cell_type": "markdown",
   "metadata": {
    "id": "S1dK5uAdSwlo"
   },
   "source": [
    "Copyright (c) 2022 Stanford Data Ocean (SDO)\n",
    "\n",
    "All rights reserved."
   ]
  }
 ],
 "metadata": {
  "colab": {
   "provenance": [
    {
     "file_id": "1f3sdZp_pdMe1KfzXLeRBlDw4KHlcxL2l",
     "timestamp": 1661883070508
    }
   ]
  },
  "kernelspec": {
   "display_name": "Python 3 (ipykernel)",
   "language": "python",
   "name": "python3"
  },
  "language_info": {
   "codemirror_mode": {
    "name": "ipython",
    "version": 3
   },
   "file_extension": ".py",
   "mimetype": "text/x-python",
   "name": "python",
   "nbconvert_exporter": "python",
   "pygments_lexer": "ipython3",
   "version": "3.10.9"
  }
 },
 "nbformat": 4,
 "nbformat_minor": 0
}
