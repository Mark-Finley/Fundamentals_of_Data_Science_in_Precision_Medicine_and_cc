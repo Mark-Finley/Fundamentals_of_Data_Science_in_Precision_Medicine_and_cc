{
 "cells": [
  {
   "cell_type": "markdown",
   "id": "676e7213",
   "metadata": {
    "id": "676e7213",
    "vscode": {
     "languageId": "r"
    }
   },
   "source": [
    "<img src=\"materials/images/introduction-to-exposome-cover.png\"/>"
   ]
  },
  {
   "cell_type": "markdown",
   "id": "d4bda40c",
   "metadata": {
    "id": "d4bda40c"
   },
   "source": [
    "# Introduction to exposome data"
   ]
  },
  {
   "cell_type": "markdown",
   "id": "27bfc175",
   "metadata": {
    "id": "27bfc175"
   },
   "source": [
    "`🕒 This module should take 30 minutes to complete.`\n",
    "\n",
    "`✍️ This notebook is written using R.`"
   ]
  },
  {
   "cell_type": "markdown",
   "id": "88dd1aed",
   "metadata": {
    "id": "88dd1aed"
   },
   "source": [
    "Human health is affected by a diverse range of factors including genetics, environmental exposures, and their complex interactions. The exposome refers to everything a person is exposed to across one's lifetime. While intensive efforts have been made to measure and understand the impact of the genome on health, our knowledge about the exposome and its impact remains remarkably limited. \n",
    "\n",
    "Existing evidence suggests certain types of environmental exposures (e.g. exposure to broad classes of air pollutants such as particulate matter) greatly affects our health, and are directly associated with numerous respiratory diseases, allergies, infectious diseases, and even cancer. The component of the airborne exposome is highly diverse and dynamic. One person's exposome profile is different from others', and can vary based on geographical location and season.\n",
    "    \n",
    "To capture the complex exposome, we used a wearable device to capture the personal environmental exposures. The device contains an air pump that continuously pumps in air, mimicking human breath. To collect the airborne exposures, we added a filter to collect biological agents from the air, and zeolite absorbents to collect chemical agents. Each sampling session takes 2-5 days. After each sampling session, we collected the filter and absorbents and send them to next generation sequencing (NGS) and mass-spectrometry (MS) for biological and chemical analysis.\n",
    "\n",
    "In this module, you'll examine the diverse biological exposome components, and investigate **how a person's exposome varies based on geographical location**. The dataset contains samples collected at different locations, i.e. when the participant traveled to Montana and Texas, and his normal routine -- around Stanford campus. Background sample was collected in an office at Stanford Research Park. "
   ]
  },
  {
   "cell_type": "markdown",
   "id": "16a0b5bd",
   "metadata": {
    "id": "16a0b5bd"
   },
   "source": [
    "----"
   ]
  },
  {
   "cell_type": "markdown",
   "id": "d58105d2",
   "metadata": {
    "id": "d58105d2"
   },
   "source": [
    "**Referenced research:**\n",
    "\n",
    "- Jiang C, Wang X, Li X, Inlora J, Wang T, Liu Q, Snyder M. Dynamic Human Environmental Exposome Revealed by Longitudinal Personal Monitoring. Cell. 2018 Sep 20;175(1):277-291.e31. doi: 10.1016/j.cell.2018.08.060. PMID: 30241608; PMCID: PMC6472932\n",
    "- Jiang, C., Zhang, X., Gao, P. et al. Decoding personal biotic and abiotic airborne exposome. Nat Protoc 16, 1129–1151 (2021). https://doi.org/10.1038/s41596-020-00451-8"
   ]
  },
  {
   "cell_type": "markdown",
   "id": "cd003900",
   "metadata": {
    "id": "cd003900"
   },
   "source": [
    "**Source data:**\n",
    "\n",
    "genusData.RData\n",
    "    "
   ]
  },
  {
   "cell_type": "markdown",
   "id": "45321adf",
   "metadata": {
    "id": "45321adf"
   },
   "source": [
    "<div class=\"alert alert-block alert-info\">\n",
    "<h3>⌨️ Keyboard shortcut</h3>\n",
    "\n",
    "These common shortcut could save your time going through this notebook:\n",
    "- Run the current cell: **`Enter + Shift`**.\n",
    "- Add a cell above the current cell: Press **`A`**.\n",
    "- Add a cell below the current cell: Press **`B`**.\n",
    "- Change a code cell to markdown cell: Select the cell, and then press **`M`**.\n",
    "- Delete a cell: Press **`D`** twice.\n",
    "\n",
    "Need more help with keyboard shortcut? Press **`H`** to look it up.\n",
    "</div>"
   ]
  },
  {
   "cell_type": "markdown",
   "id": "8a13d80e",
   "metadata": {
    "id": "8a13d80e"
   },
   "source": [
    "----"
   ]
  },
  {
   "cell_type": "markdown",
   "id": "dea13fb7",
   "metadata": {
    "id": "dea13fb7"
   },
   "source": [
    "# 1. Setup"
   ]
  },
  {
   "cell_type": "code",
   "execution_count": null,
   "id": "ffcbc364",
   "metadata": {
    "id": "ffcbc364",
    "vscode": {
     "languageId": "r"
    }
   },
   "outputs": [],
   "source": [
    "# Load R packages.\n",
    "library(reshape2)\n",
    "library(tidyverse)\n",
    "library(ade4)\n",
    "library(FactoMineR)\n",
    "library(factoextra)\n",
    "library(\"gplots\")\n",
    "\n",
    "# Load data.\n",
    "load(\"data/genusData.RData\")"
   ]
  },
  {
   "cell_type": "markdown",
   "id": "38d374e9",
   "metadata": {
    "id": "38d374e9"
   },
   "source": [
    "----"
   ]
  },
  {
   "cell_type": "markdown",
   "id": "99fa9cbc",
   "metadata": {
    "id": "99fa9cbc"
   },
   "source": [
    "# 2. Overview of the diverse biological exposome"
   ]
  },
  {
   "cell_type": "markdown",
   "id": "6477844c",
   "metadata": {
    "id": "6477844c"
   },
   "source": [
    "### 2.1 Get a quick understanding of the data"
   ]
  },
  {
   "cell_type": "markdown",
   "id": "abb088b8",
   "metadata": {
    "id": "abb088b8"
   },
   "source": [
    "The biological exposome is highly diverse, it contains not only exposures from plants and animals, but also from microbes, such as fungi and bacteria. \n",
    "\n",
    "Examine the data table and see if you recognize some of the genera."
   ]
  },
  {
   "cell_type": "code",
   "execution_count": null,
   "id": "3ad8dab3",
   "metadata": {
    "id": "3ad8dab3",
    "vscode": {
     "languageId": "r"
    }
   },
   "outputs": [],
   "source": [
    "# Insert code\n",
    "head(genusData)"
   ]
  },
  {
   "cell_type": "markdown",
   "id": "fb563159",
   "metadata": {
    "id": "fb563159"
   },
   "source": [
    "In this dataset, each row represents data from one sample. This dataset combines metadata of the sample as well as biological data. \n",
    "\n",
    "The first seven columns are metadata of the samples, including:\n",
    "\n",
    "- `Filter_No`: name of the sample\n",
    "- `location`: where the sample is collected\n",
    "- `ownership`: which participant the sample belongs to\n",
    "- `date.month`: which month it is when the sample was collected\n",
    "- `date.start` and `date.end`: start and end day of the sampling period\n",
    "- `season`: during what season is the sample collected. \n",
    "\n",
    "Starting from Column 8, the column names are genus names, and the value are the abundance of the genus. \n",
    "\n",
    "4177.315 is the abundance of *Trametes*. This is a **normalized** reads count, 4177.315 of *Trametes* counts per million reads. This normalization helps **compare abundance across samples**."
   ]
  },
  {
   "cell_type": "code",
   "execution_count": null,
   "id": "4d11cdf4",
   "metadata": {
    "id": "4d11cdf4",
    "vscode": {
     "languageId": "r"
    }
   },
   "outputs": [],
   "source": [
    "# Take a look at the genera\n",
    "colnames(genusData)[9:ncol(genusData)] # Display column names from column 9 to the last coloumn"
   ]
  },
  {
   "cell_type": "markdown",
   "id": "b6156eb3",
   "metadata": {
    "id": "b6156eb3"
   },
   "source": [
    "Starting from Column 9, the column names are genera detected in the exposome. They're very diverse and cover all domains of life. For example, *Stereum* (fungi), *Pinus* (pine/plants), *Canis* (dogs belong in this genera/animals), and *Clostridium* (human pathogen/bacteria)."
   ]
  },
  {
   "cell_type": "markdown",
   "id": "085c7bc5",
   "metadata": {
    "id": "085c7bc5"
   },
   "source": [
    "### 2.2 Visualize data with heatmap"
   ]
  },
  {
   "cell_type": "markdown",
   "id": "8dbe6ae8",
   "metadata": {
    "id": "8dbe6ae8"
   },
   "source": [
    "Since exposome composition is very diverse, we use heatmap to get a sense of what the data looks like. Below is an image of the heatmap we are going to generate.\n",
    "\n",
    "Typically, the x-axis of a heatmap is sample and y-axis is gene/microbe/characteristics of interest. The color of each intersecting tile represents the **relative expression of each characteristic**. It is useful in identifying the expression pattern of a set of samples. "
   ]
  },
  {
   "cell_type": "markdown",
   "id": "70df83c0",
   "metadata": {
    "id": "70df83c0"
   },
   "source": [
    "<img src=\"materials/images/heatmap.png\"/>"
   ]
  },
  {
   "cell_type": "markdown",
   "id": "91beadc5",
   "metadata": {
    "id": "91beadc5"
   },
   "source": [
    "The color of each tile represents the z-score, which are calculated by subtracting the mean from each cell, and then dividing the value by the standard deviation of the row.  \n",
    "\n",
    "Z-score represents the **relative abundance** of each genus -  how common or rare the genus is in comparison to other samples in this dataset."
   ]
  },
  {
   "cell_type": "code",
   "execution_count": null,
   "id": "59f47808",
   "metadata": {
    "id": "59f47808",
    "vscode": {
     "languageId": "r"
    }
   },
   "outputs": [],
   "source": [
    "# Prepare the data.\n",
    "# Create a matrix with abundances of genera as columns, and names of samples as row names.\n",
    "m.genusData <- as.matrix(select(genusData, -c(\"Filter_No\",\"location\",\"ownership\",\"date.month\", \"date.start\", \"date.end\", \"season\")))\n",
    "rownames(m.genusData) <- genusData$Filter_No \n",
    "\n",
    "# Select the top 30 genera for presentation.\n",
    "var_genes <- apply(m.genusData, 2, mean) # Calculate mean of each genera.\n",
    "select_var <- names(sort(var_genes, decreasing=TRUE))[1:30] # Select 30 genera with the most abundance.\n",
    "highly_variable <- t(m.genusData)[select_var,] # Select data of these 30 genera."
   ]
  },
  {
   "cell_type": "code",
   "execution_count": null,
   "id": "83dc8514",
   "metadata": {
    "id": "83dc8514",
    "vscode": {
     "languageId": "r"
    }
   },
   "outputs": [],
   "source": [
    "# Set up color palette for heatmap using RColorBrewer.\n",
    "# RColorBrewer package provides several palettes to visualize ordered gradient or categorical data.\n",
    "install.packages(\"RColorBrewer\")\n",
    "library(\"RColorBrewer\")"
   ]
  },
  {
   "cell_type": "code",
   "execution_count": null,
   "id": "1935d0ce",
   "metadata": {
    "id": "1935d0ce",
    "vscode": {
     "languageId": "r"
    }
   },
   "outputs": [],
   "source": [
    "display.brewer.all() # See all pallettes in the package."
   ]
  },
  {
   "cell_type": "code",
   "execution_count": null,
   "id": "e5b6aaf9",
   "metadata": {
    "id": "e5b6aaf9",
    "vscode": {
     "languageId": "r"
    }
   },
   "outputs": [],
   "source": [
    "mypalette <- brewer.pal(11,\"RdYlBu\") # Select 11 different colors in RdYlBu (red yellow blue) pallette.\n",
    "morecols <- colorRampPalette(mypalette) # Generate a new color palette with these colors."
   ]
  },
  {
   "cell_type": "markdown",
   "id": "5da2a8b7",
   "metadata": {
    "id": "5da2a8b7"
   },
   "source": [
    "In the code above, we first select 11 colors from the pallette `RdYlBu`. Then, we generates new colors to interpolate the original palette so that small changes can be reflected in colors as well."
   ]
  },
  {
   "cell_type": "code",
   "execution_count": null,
   "id": "7f104a92",
   "metadata": {
    "id": "7f104a92",
    "vscode": {
     "languageId": "r"
    }
   },
   "outputs": [],
   "source": [
    "# Plot the heatmap.\n",
    "heatmap.2(highly_variable,col=rev(morecols(25)), scale=\"row\", cexRow = 0.6, cexCol  = 0.8, dendrogram = 'none',\n",
    "          trace=\"none\", \n",
    "          margins = c(3,6), # add margin so lables don't get cropped\n",
    "          main=\"Top 30 most abundant genera\", Colv = FALSE,\n",
    "          srtCol = 45, offsetRow = 0,offsetCol = 0,\n",
    "          density.info = \"none\",lwid = c(3,9) ,lhei= c(3,9))"
   ]
  },
  {
   "cell_type": "markdown",
   "id": "959b66dc",
   "metadata": {
    "id": "959b66dc"
   },
   "source": [
    "**This is a recap in case you forget**:\n",
    "\n",
    "The color of each tile represents the z-score, which are calculated by subtracting the mean from each cell, and then dividing the value by the standard deviation of the row. \n",
    "\n",
    "Z-score represents the **relative abundance** of each genus -  how common or rare the genus is in comparison to other samples in this dataset. \n",
    "\n",
    "The function `heatmap.2` calculates z-score automatically. You could learn more about in R documentation: https://www.rdocumentation.org/packages/gplots/versions/3.1.3/topics/heatmap.2"
   ]
  },
  {
   "cell_type": "markdown",
   "id": "df3abcab",
   "metadata": {
    "id": "df3abcab"
   },
   "source": [
    "On the plot, dark red means the most abundant, and blue suggests the least abundance. \n",
    "\n",
    "In our samples, the exposome composition varies a lot. Some genera are specific to one sample, such as *Phlebotomus*, while some genera are found in all samples (but expression levels are different), such as *Stereum*."
   ]
  },
  {
   "cell_type": "markdown",
   "id": "8a911df4",
   "metadata": {
    "id": "8a911df4"
   },
   "source": [
    "----"
   ]
  },
  {
   "cell_type": "markdown",
   "id": "b1a6dc5d",
   "metadata": {
    "id": "b1a6dc5d"
   },
   "source": [
    "# 3. The exposome components vary based on geographical location"
   ]
  },
  {
   "cell_type": "markdown",
   "id": "934d61b7",
   "metadata": {
    "id": "934d61b7"
   },
   "source": [
    "**Principal Component Analysis (PCA)** is a dimensionality-reduction method in large datasets when there are a lot variations among data. PCA reduces dimensions by creating principal components (PCs). PCs describe variation and account for varied influences of the original characteristics. \n",
    "\n",
    "A **PCA plot** is commonly used to **show clusters of samples based on their similarity**. "
   ]
  },
  {
   "cell_type": "markdown",
   "id": "1b452678",
   "metadata": {
    "id": "1b452678"
   },
   "source": [
    "### 3.1 Identify principal components (PCs)"
   ]
  },
  {
   "cell_type": "markdown",
   "id": "6e6766c1",
   "metadata": {
    "id": "6e6766c1"
   },
   "source": [
    "As the first step to create a PCA plot, we need to find out the principal components (PCs) and the amount of variation they cover. \n",
    "\n",
    "A **scree plot** shows the PCs and their contribution. PCs are created in the order of variation they cover. "
   ]
  },
  {
   "cell_type": "code",
   "execution_count": null,
   "id": "9c3d0494",
   "metadata": {
    "id": "9c3d0494",
    "vscode": {
     "languageId": "r"
    }
   },
   "outputs": [],
   "source": [
    "# Perform a PCA on the data.\n",
    "pca <-  dudi.pca(m.genusData, scale=FALSE, scannf=FALSE, nf=3)\n",
    "\n",
    "# Create a summary of PCs and their contribution.\n",
    "summary(pca)\n",
    "\n",
    "# Create a scree plot to show PCs and their contribution\n",
    "fviz_screeplot(pca, addlabels = TRUE ) "
   ]
  },
  {
   "cell_type": "markdown",
   "id": "b7b1cf19",
   "metadata": {
    "id": "b7b1cf19"
   },
   "source": [
    "In our dataset, PC1 contributes the most, explaining 63.4% of variation among the samples, followed by PC2, explaining 10.2% and PC3 explaining 8.4%."
   ]
  },
  {
   "cell_type": "markdown",
   "id": "f48ee04a",
   "metadata": {
    "id": "f48ee04a"
   },
   "source": [
    "### 3.2 Create a Principal Component Analysis (PCA) plot"
   ]
  },
  {
   "cell_type": "markdown",
   "id": "6dc2e1c1",
   "metadata": {
    "id": "6dc2e1c1"
   },
   "source": [
    "Next, let's draw a PCA plot. In this plot:\n",
    "- **x-axis** is **PC1**, which explains 63.4% of variation as shown in the scree plot. \n",
    "- **y-axis** is the second most influential, **PC2**. It explains 10.2% of variation as shown in the scree plot. "
   ]
  },
  {
   "cell_type": "markdown",
   "id": "e9ba474d",
   "metadata": {
    "id": "e9ba474d"
   },
   "source": [
    "Since there are 800+ genera, it will get too crowded to visuzlize everything on one plot. We are going to choose the first 6 genera and last 6 genera in each PC, using `head()` and `tail()` in the code below:"
   ]
  },
  {
   "cell_type": "code",
   "execution_count": null,
   "id": "81d67c56",
   "metadata": {
    "id": "81d67c56",
    "vscode": {
     "languageId": "r"
    }
   },
   "outputs": [],
   "source": [
    "\n",
    "# Select a subset of variables (genera) for better presentation.\n",
    "test.names = c(head(rownames(pca$c1)[order(pca$c1$CS1)]),tail(rownames(pca$c1)[order(pca$c1$CS1)]),\n",
    "               head(rownames(pca$c1)[order(pca$c1$CS2)]),tail(rownames(pca$c1)[order(pca$c1$CS2)]))\n",
    "\n",
    "# Create a PCA plot. \n",
    "fviz_pca_var(pca, col.var=\"contrib\", geom=c(\"point\",\"text\"), select.var = list(name=test.names),\n",
    "             gradient.cols = c(\"#00AFBB\", \"#E7B800\", \"#FC4E07\"),\n",
    "             repel = TRUE, max.overlaps = Inf) \n"
   ]
  },
  {
   "cell_type": "markdown",
   "id": "3ef8d662",
   "metadata": {
    "id": "3ef8d662"
   },
   "source": [
    "Here are some explanations on the code:\n",
    "\n",
    "- `col.var=\"contrib\"` assigns color based on the genera contribution to the pricipal components. Warmer color represents higher contribution, and colder color represents lower contribution. \n",
    "\n",
    "- `geom=c(\"point\",\"text\")` creates the genus label next to each dot."
   ]
  },
  {
   "cell_type": "markdown",
   "id": "52fba667",
   "metadata": {
    "id": "52fba667"
   },
   "source": [
    "As we can see in the plot, the colored dots represent the variables (genera) contributing to the variation:\n",
    "\n",
    "- the x-axis is dimension 1 (i.e. PC1)\n",
    "- the y-axis is dimension 2 (i.e. PC2)\n",
    "- the positive and negative values on the x or y axis indicates the direction of the correlations between the variables and the PCs. The positive or negative sign doesn’t have a biological meaning, and it can be flipped. We won't get too deep on PCA analysis in this module.\n",
    "- the two dark dash lines are 0s on dimension 1 and dimension 2.\n",
    "- the further away a genus is from the lines of 0, the more the genus contributes to the PC.\n",
    "\n",
    "Stereum contributes most to the variations in PC1 among these samples, and a small contribution to PC2."
   ]
  },
  {
   "cell_type": "markdown",
   "id": "a53f9f17",
   "metadata": {
    "id": "a53f9f17"
   },
   "source": [
    "<div class=\"alert alert-block alert-warning\">\n",
    "    <b>Alert:</b> It is always good to check if all the data is displayed on the plot. Usually, if some data points are missing when plotting, there is a warning message, then we can make adjustments from there. In our case, we should be expecting 24 data points, but we end up with less. There are repeated genera when we select head and tail from PC1 and PC2, so the total is not 24, but 20.\n",
    "    </div>"
   ]
  },
  {
   "cell_type": "markdown",
   "id": "a07c8a65",
   "metadata": {
    "id": "a07c8a65"
   },
   "source": [
    "Now, let's see how the samples vary based on geographical location. "
   ]
  },
  {
   "cell_type": "code",
   "execution_count": null,
   "id": "73c336b6",
   "metadata": {
    "id": "73c336b6",
    "vscode": {
     "languageId": "r"
    }
   },
   "outputs": [],
   "source": [
    "# Create PCA plot based on location.\n",
    "fviz_pca_ind(pca, label = \"none\",habillage=\"none\", pointsize=4.0, col.ind = genusData$location, mean.point = FALSE)"
   ]
  },
  {
   "cell_type": "markdown",
   "id": "aad499fe",
   "metadata": {
    "id": "aad499fe"
   },
   "source": [
    "Instead of genera, the dots now represents each sample, and the shape represents their location. On a PCA plot, similar samples are clusterd together. In our plot, samples collected at Stanford campus are cluster together whereas samples from MT, TX and background samples are located away from each other. This shows that MT, TX and background samples are different from campus samples, and they're different from each other.\n",
    "\n",
    "This tells us the exposome is dependent on location. \n",
    "\n",
    "Have you noticed the samples collected from the same person at Stanford campus have two clusters on the plot? There still are subtle compositional differences among these samples. Even though they were collected from the same person and at the same general location, they were collected on different days. Exposome is different than computer codes, it doesn’t guarantee the exact same results because the participant is unlikely to spend the same amount of time interacting with the same people with the same health conditions at the exact same location each time. This is why the field is pushing for precise, personal, and real-time measurement.\n",
    "\n",
    "The other observation you may have is that most locations have similar contributions to PC2. PC2 is not the PC that explains the most variance (i.e. only 10.2%). The samples are not hugely different in PC2, in comparison to PC1. "
   ]
  },
  {
   "cell_type": "markdown",
   "id": "e7ef9d69",
   "metadata": {
    "id": "e7ef9d69"
   },
   "source": [
    "----"
   ]
  },
  {
   "cell_type": "markdown",
   "id": "8acd8650",
   "metadata": {
    "id": "8acd8650"
   },
   "source": [
    "# Contributions & acknowledgment"
   ]
  },
  {
   "cell_type": "markdown",
   "id": "131a4693",
   "metadata": {
    "id": "131a4693"
   },
   "source": [
    "- **Module Content:** Xinyue Zhang\n",
    "- **Engineering:** Amit Dixit\n",
    "- **UX/UI Design & Illustration:** Kexin Cha\n",
    "- **Video Production:** Francesca Goncalves\n",
    "- **Project Management:** Amir Bahmani, Kexin Cha"
   ]
  },
  {
   "cell_type": "markdown",
   "id": "5794515b",
   "metadata": {
    "id": "5794515b"
   },
   "source": [
    "---"
   ]
  },
  {
   "cell_type": "markdown",
   "id": "1474303b",
   "metadata": {
    "id": "1474303b"
   },
   "source": [
    "Copyright (c) 2022 Stanford Data Ocean (SDO)\n",
    "\n",
    "All rights reserved."
   ]
  }
 ],
 "metadata": {
  "colab": {
   "provenance": []
  },
  "kernelspec": {
   "display_name": "R",
   "language": "R",
   "name": "ir"
  },
  "language_info": {
   "codemirror_mode": "r",
   "file_extension": ".r",
   "mimetype": "text/x-r-source",
   "name": "R",
   "pygments_lexer": "r",
   "version": "4.2.2"
  }
 },
 "nbformat": 4,
 "nbformat_minor": 5
}
