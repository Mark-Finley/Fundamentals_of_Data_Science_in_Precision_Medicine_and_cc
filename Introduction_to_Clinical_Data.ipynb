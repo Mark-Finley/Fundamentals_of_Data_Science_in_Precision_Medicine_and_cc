{
 "cells": [
  {
   "cell_type": "markdown",
   "id": "cf9aebdf",
   "metadata": {
    "id": "cf9aebdf"
   },
   "source": [
    "<img src=\"materials/images/introduction-to-clinical-data-cover.png\"/>"
   ]
  },
  {
   "cell_type": "markdown",
   "id": "b2a0ba5e",
   "metadata": {
    "id": "b2a0ba5e"
   },
   "source": [
    "# Introduction to Clinical Data"
   ]
  },
  {
   "cell_type": "markdown",
   "id": "d108f0a7",
   "metadata": {
    "id": "d108f0a7"
   },
   "source": [
    "`🕒 This module should take less than 1 hour to complete.`\n",
    "\n",
    "`✍️ This notebook is written using Python.`"
   ]
  },
  {
   "cell_type": "markdown",
   "id": "7259c4e1",
   "metadata": {
    "id": "7259c4e1"
   },
   "source": [
    "<div class=\"alert alert-block alert-info\">\n",
    "<h3>⌨️ Keyboard shortcut</h3>\n",
    "\n",
    "These common shortcut could save your time going through this notebook:\n",
    "- Run the current cell: **`Enter + Shift`**.\n",
    "- Add a cell above the current cell: Press **`A`**.\n",
    "- Add a cell below the current cell: Press **`B`**.\n",
    "- Change a code cell to markdown cell: Select the cell, and then press **`M`**.\n",
    "- Delete a cell: Press **`D`** twice.\n",
    "\n",
    "Need more help with keyboard shortcut? Press **`H`** to look it up.\n",
    "</div>"
   ]
  },
  {
   "cell_type": "markdown",
   "id": "4c6f1534",
   "metadata": {
    "id": "4c6f1534"
   },
   "source": [
    "---"
   ]
  },
  {
   "cell_type": "markdown",
   "id": "c71a3953",
   "metadata": {
    "id": "c71a3953"
   },
   "source": [
    "# Why do we need clincal tests?\n",
    "\n",
    "Clinical tests use to measure levels of chemical components in body fluids and tissues. The goal of clincal tests are to obtain information about the health of a patient to aid in diagnosis, treatment, and prevention of disease.\n",
    "\n"
   ]
  },
  {
   "cell_type": "markdown",
   "id": "acb07dbb",
   "metadata": {
    "id": "acb07dbb"
   },
   "source": [
    "# What are the different types of clinical laboratory tests?\n",
    "Many different tests exist to detect and measure almost any type of chemical component such as blood glucose, electrolytes, enzymes, hormones, lipids (fats), other metabolic substances, and proteins in blood or urine [1].\n",
    "\n",
    "The more common laboratory tests are `Urine test` `Blood tests` and `Tumor markers`.\n"
   ]
  },
  {
   "cell_type": "markdown",
   "id": "8ca93e1e",
   "metadata": {
    "id": "8ca93e1e"
   },
   "source": [
    "`Urine test`: Urinalysis is a laboratory examination of urine for various cells and chemicals, such as red blood cells, white blood cells, infection, or excessive protein [2].\n",
    "\n",
    "For exmample, blood in the urine (hematuria) may be the result of a benign (noncancerous) condition, but it can also indicate an infection or other problem. High levels of protein in the urine (proteinuria) may indicate a kidney or cardiovascular problem.\n",
    "\n",
    "`Blood test`: Blood tests are offed used to check cell counts, measure various blood chemistries and markers of inflammation, and genetics [3].\n",
    "\n",
    "`Tumor markers`: Tumor markers are substances either released by cancer cells into the blood or urine or substances created by the body in response to cancer cells [4].\n"
   ]
  },
  {
   "cell_type": "markdown",
   "id": "6beb6726",
   "metadata": {
    "id": "6beb6726"
   },
   "source": [
    "# Plot using clinical data"
   ]
  },
  {
   "cell_type": "markdown",
   "id": "869869bc",
   "metadata": {
    "id": "869869bc"
   },
   "source": [
    "In this module, we are going to plot the clincal data using python from a study published in Nature Medicine in 2019, `A longitudinal big data approach for precision health` [5].\n",
    "\n",
    "This study collected blood samples from participants every three months for up to 8 years. The study team discovered more than 67 clinically actionable health discoveries and identified multiple molecular pathways associated with metabolic, cardiovascular and oncologic pathophysiology.\n",
    "\n",
    "They also developed prediction models for insulin resistance by using omics measurements, illustrating their potential to replace burdensome tests. [5]\n"
   ]
  },
  {
   "cell_type": "markdown",
   "id": "b0663d86",
   "metadata": {
    "id": "b0663d86"
   },
   "source": [
    "---"
   ]
  },
  {
   "cell_type": "markdown",
   "id": "6e119e04",
   "metadata": {
    "id": "6e119e04"
   },
   "source": [
    "#### References"
   ]
  },
  {
   "cell_type": "markdown",
   "id": "b1cca6f1",
   "metadata": {
    "id": "b1cca6f1"
   },
   "source": [
    "[1] https://stanfordhealthcare.org/medical-tests/l/lab-tests/types.html, Last Accessed September 2, 2022.\n",
    "\n",
    "[2] https://stanfordhealthcare.org/medical-tests/l/lab-tests/types/urinalysis.html, Last Accessed September 2, 2022.\n",
    "\n",
    "[3] https://stanfordhealthcare.org/medical-tests/l/lab-tests/types/blood.html, Last Accessed September 2, 2022.\n",
    "\n",
    "[4] https://stanfordhealthcare.org/medical-tests/l/lab-tests/types/tumors.html, Last Accessed September 2, 2022.\n",
    "\n",
    "[5] Schüssler-Fiorenza Rose, S. M., Contrepois, K., Moneghetti, K. J., Zhou, W., Mishra, T., Mataraso, S., ... & Snyder, M. P. (2019). A longitudinal big data approach for precision health. Nature medicine, 25(5), 792-804."
   ]
  },
  {
   "cell_type": "markdown",
   "id": "113abf24",
   "metadata": {
    "id": "113abf24"
   },
   "source": [
    "---"
   ]
  },
  {
   "cell_type": "markdown",
   "id": "eb5f456c",
   "metadata": {
    "id": "eb5f456c"
   },
   "source": [
    "# What do the plots tells us?"
   ]
  },
  {
   "cell_type": "markdown",
   "id": "6a7f981e",
   "metadata": {
    "id": "6a7f981e"
   },
   "source": [
    "Before we try to plot Figure 3a, 3b, 3c from the publication, let's try to understand what they mean. You could also reference the figures in publication here: https://www.nature.com/articles/s41591-019-0414-6/figures/3\n",
    "\n",
    "These figures follow the laboratory tests for different study participants over time. They show that different people develop diabetes through different pathways, or with different initial signs of glucose dysregulation.\n",
    "\n",
    "Each laboratory test **measures a specific aspect of glucose physiology**:\n",
    "\n",
    "1. **FPG** - Fasting Plasma Glucose  \n",
    "\n",
    "  It measures how well the body maintains a healthy blood glucose level in a stable environment (i.e.  homeostasis).  \n",
    "  Values of 126 or above suggest that an individual might have diabetes.\n",
    "\n",
    "\n",
    "2. **OGTT2HR** - Oral Glucose Tolerance Test\n",
    "\n",
    "  It measures how well a person's body processes glucose when they receive a large amount of glucose (75gm) at once.  \n",
    "  Glucose is then measured in the blood. Blood glucose levels of 200 or above are an indicator of diabetes.\n",
    "\n",
    "\n",
    "3. **SSPG** - Steady-State Plasma Glucose\n",
    "\n",
    "  It measures insulin resistance, or how well the body responds to insulin.  \n",
    "  Blood glucose levels of 150 or above are considered insulin resistant. It means the body doesn’t respond as well to insulin, leading to higher blood glucose levels.\n",
    "\n",
    "\n",
    "4. **HbA1C** - Hemoglobin A1C, or Glycated Hemoglobin\n",
    "\n",
    "  It is another measure of how much sugar is in the blood. When there is a lot of sugar in the blood, it glycates (sticks to) hemoglobin.\n",
    "  \n",
    "  The more sugar in the blood, the more it sticks.  Since the red blood cells contain hemoglobin that last around three months, it is considered a measure of average blood glucose levels over the last three months. Values of 6.5 or above are indicative of diabetes.\n",
    "\n"
   ]
  },
  {
   "cell_type": "markdown",
   "id": "6dcc4581",
   "metadata": {
    "id": "6dcc4581"
   },
   "source": [
    "## Figure 3a: Initial abnormality of OGTT2HR - Oral Glucose Tolerance Test\n",
    "\n",
    "It shows a participant (ID: ZNDMXI3) first developed an OGTT in the diabetic range. Blood glucose levels of 200 or above are an indicator of diabetes. Here, we see measurement of 208 and 263."
   ]
  },
  {
   "cell_type": "markdown",
   "id": "048023c4",
   "metadata": {
    "id": "048023c4"
   },
   "source": [
    "<img src=\"materials/images/fig3a.png\"/>"
   ]
  },
  {
   "cell_type": "markdown",
   "id": "b4e0012a",
   "metadata": {
    "id": "b4e0012a"
   },
   "source": [
    "---"
   ]
  },
  {
   "cell_type": "markdown",
   "id": "21345a9c",
   "metadata": {
    "id": "21345a9c"
   },
   "source": [
    "## Figure 3b: Initial abnormality of FPG - Fasting Plasma Glucose\n",
    "It shows a participant (ID: ZNED4XZ) first had an abnormality in fasting glucose (glucose homeostasis). Values of 126 or above suggest that an individual might have diabetes. Here, we see multiple numeric values in red are above 126."
   ]
  },
  {
   "cell_type": "markdown",
   "id": "36221255",
   "metadata": {
    "id": "36221255"
   },
   "source": [
    "<img src=\"materials/images/fig3b.png\"/>"
   ]
  },
  {
   "cell_type": "markdown",
   "id": "54e9de79",
   "metadata": {
    "id": "54e9de79"
   },
   "source": [
    "---"
   ]
  },
  {
   "cell_type": "markdown",
   "id": "f78cb425",
   "metadata": {
    "id": "f78cb425"
   },
   "source": [
    "## Figure 3c: Initial improvement followed by progression after viral infections\n",
    "\n",
    "It shows a participant (ID:ZOZOWIT) had developed a diabetic range fasting glucose and hemoglobin A1C after a viral infection.\n",
    "\n",
    "This participant was able to bring these labs back to the normal range through lifestyle changes.\n",
    "\n",
    "However, after a second viral infection, they then developed elevated blood glucose levels, including fasting glucose, OGTT and HbA1C in the diabetic range.  \n"
   ]
  },
  {
   "cell_type": "markdown",
   "id": "0e04f16c",
   "metadata": {
    "id": "0e04f16c"
   },
   "source": [
    "<img src=\"materials/images/fig3c.png\"/>"
   ]
  },
  {
   "cell_type": "markdown",
   "id": "b51a09aa",
   "metadata": {
    "id": "b51a09aa"
   },
   "source": [
    "---"
   ]
  },
  {
   "cell_type": "markdown",
   "id": "8b789be0",
   "metadata": {
    "id": "8b789be0"
   },
   "source": [
    "# Create plots using clinical data from 3 study participants"
   ]
  },
  {
   "cell_type": "code",
   "execution_count": null,
   "id": "0vrtcUSq-hb_",
   "metadata": {
    "id": "0vrtcUSq-hb_"
   },
   "outputs": [],
   "source": [
    "import pandas as pd\n",
    "import matplotlib.pyplot as plt\n",
    "import numpy as np"
   ]
  },
  {
   "cell_type": "markdown",
   "id": "6386910a",
   "metadata": {
    "id": "6386910a"
   },
   "source": [
    "## Figure 3a: Initial abnormality of OGTT2HR - Oral Glucose Tolerance Test\n",
    "\n",
    "Let's use data from participant (ID: ZNDMXI3) to plot the measurements from the four laboratory tests.\n",
    "\n",
    "We will label the values in diabetic range using the color red to make them stand out. The diabetic range for the tests are:\n",
    "- **FPG**: any value ≥ 126\n",
    "- **OGTT2HR**: any value ≥ 200\n",
    "- **SSPG**: any value ≥ 150\n",
    "- **HbA1C**: any value ≥ 6.5\n",
    "\n",
    "Check the plot after you run the code, and see if you can see that this participant had developed an OGTT blood glucose levels of 200 or above."
   ]
  },
  {
   "cell_type": "code",
   "execution_count": null,
   "id": "10b8bd91",
   "metadata": {
    "id": "10b8bd91"
   },
   "outputs": [],
   "source": [
    "df = pd.read_csv(\"data/41591_2019_414_MOESM5_ESM_3a.csv\")\n",
    "df"
   ]
  },
  {
   "cell_type": "code",
   "execution_count": null,
   "id": "84f2880a",
   "metadata": {
    "id": "84f2880a"
   },
   "outputs": [],
   "source": [
    "################### PLOTS #############################\n",
    "####### Plot the various data points\n",
    "\n",
    "# This instantiates an empty plot\n",
    "fig, ax = plt.subplots(figsize=(10, 5))\n",
    "\n",
    "\n",
    "# This plots the fasting plasma glucose (FPG) data points\n",
    "fpg, = ax.plot(df[\"Days\"], df['FPG (mg/dl)'], color=\"#F1C40F\", marker=\"o\")\n",
    "\n",
    "# This sets the FPG axis to range from 50 to 300\n",
    "ax.set_ylim(50, 300)\n",
    "\n",
    "# This adds labels to the Days and FPG axes\n",
    "ax.set_xlabel(\"Days in Study\", fontsize=12)\n",
    "ax.set_ylabel('FPG (mg/dl)', fontsize=12)\n",
    "\n",
    "# This plots the oral glucose tolerance test (OGTT) data points\n",
    "ogtt, = ax.plot(df[\"Days\"], df['OGTT_2HR (mg/dl)'], color=\"#3498DB\", marker=\"o\", markersize=10, linestyle=\"\")\n",
    "\n",
    "# This plots the insulin suppression test (SSPG) data points\n",
    "sspg, = ax.plot(df[\"Days\"], df['SSPG (mg/dl)'], color=\"red\", marker=\"s\", markersize=10, linestyle=\"\")\n",
    "\n",
    "# This adds a separate y-axis to the right of the plot representing the hemoglobin (HbA1C) axis\n",
    "ax2 = ax.twinx()\n",
    "\n",
    "# This plots the the hemoglobin (HbA1C) data points\n",
    "a1c, = ax2.plot(df[\"Days\"], df['HbA1C (%)'], color=\"lightgray\", marker=\"o\")\n",
    "\n",
    "# This sets the HbA1C axis to range from 5.0 to 7.0\n",
    "ax2.set_ylim(5.0, 7.0)\n",
    "\n",
    "# This adds labels to the (HbA1C) axis\n",
    "ax2.set_ylabel('HbA1C(%)', fontsize=12)\n",
    "\n",
    "\n",
    "\n",
    "########################################## LEGEND ##########################################\n",
    "#####  This anchors a legend to the top of the plot representing the various measures  #####\n",
    "ax.legend(handles = [fpg, ogtt, sspg, a1c],\n",
    "           labels  = ['FPG', \"OGTT2HR\", \"SSPG\", \"HbA1C\"],\n",
    "           bbox_to_anchor=(0., 1.02, 1., .102), ncol=4,\n",
    "           mode=\"expand\", borderaxespad=0., fontsize=14);\n",
    "\n",
    "\n",
    "\n",
    "\n",
    "################### ANNOTATIONS #############################\n",
    "\n",
    "# This loops through the data;\n",
    "       # data points in the diabetic range (SSPG ≥ 150) are annotated in red  ###################\n",
    "xs = df[\"Days\"]\n",
    "ys = df[\"SSPG (mg/dl)\"]\n",
    "\n",
    "# zip joins x and y coordinates into pairs\n",
    "for x,y in zip(xs,ys):\n",
    "    if not np.isnan(y):  # ignore nan values\n",
    "        ax.text(x, y+10, \"{:.0f}\".format(y), color=\"red\", ha=\"center\", fontsize=18);\n",
    "\n",
    "\n",
    "\n",
    "# This loops through the data and adds numerical annotations to the \"OGTT_2HR\" data points;\n",
    "       # data points in the diabetic range (OGTT_2HR ≥ 200) are annotated in red  ##########################\n",
    "xs = df[\"Days\"]\n",
    "ys = df[\"OGTT_2HR (mg/dl)\"]\n",
    "\n",
    "for x,y in zip(xs,ys):\n",
    "    color = \"black\"\n",
    "    textsize=14\n",
    "    if not np.isnan(y):  # ignore nan values\n",
    "        if y >= 200:\n",
    "            color = \"red\"\n",
    "            textsize=18\n",
    "        if y%1==0:  # to format values with decimal places appropriately\n",
    "            ax.text(x, y+10, \"{:.0f}\".format(y), color=color, ha=\"center\", fontsize=textsize)\n",
    "        else:\n",
    "            ax.text(x, y+10, \"{}\".format(y), color=color, ha=\"center\", fontsize=textsize);\n",
    "\n",
    "\n",
    "\n",
    "# This loops through the data and adds numerical annotations below the \"FPG\" data points #####################\n",
    "xs = df[\"Days\"]\n",
    "ys = df[\"FPG (mg/dl)\"]\n",
    "\n",
    "for x,y in zip(xs,ys):\n",
    "\n",
    "    label = \"{:.0f}\".format(y)\n",
    "\n",
    "    ax.annotate(label, # this is the text\n",
    "                 (x,y), # these are the coordinates to position the label\n",
    "                 textcoords=\"offset points\", # how to position the text\n",
    "                 xytext=(0,-20), # distance from text to points (x,y) <-- place text below points\n",
    "                 ha='center') # horizontal alignment can be left, right or center\n",
    "\n",
    "\n",
    "\n",
    "# This loops through the data and adds numerical annotations to the  \"HbA1C(%)\" data points  #####################\n",
    "xs = df[\"Days\"]\n",
    "ys = df[\"HbA1C (%)\"]\n",
    "for x,y in zip(xs,ys):\n",
    "\n",
    "    label = \"{}\".format(y)\n",
    "\n",
    "    ax2.annotate(label, # this is the text\n",
    "                 (x,y), # these are the coordinates to position the label\n",
    "                 textcoords=\"offset points\", # how to position the text\n",
    "                 xytext=(0,5), # distance from text to points (x,y) <-- place text below points\n",
    "                 ha='center') # horizontal alignment can be left, right or center"
   ]
  },
  {
   "cell_type": "markdown",
   "id": "e6d60a03",
   "metadata": {
    "id": "e6d60a03"
   },
   "source": [
    "---"
   ]
  },
  {
   "cell_type": "markdown",
   "id": "65cf20f8",
   "metadata": {
    "id": "65cf20f8"
   },
   "source": [
    "## Figure 3b: Initial abnormality of FPG - Fasting Plasma Glucose\n",
    "Let's use data from participant (ID: ZNED4XZ).\n",
    "\n",
    "We will label the values in diabetic range using the color red to make them stand out. The diabetic range for the tests are:\n",
    "- **FPG**: any value ≥ 126\n",
    "- **OGTT2HR**: any value ≥ 200\n",
    "- **SSPG**: any value ≥ 150\n",
    "- **HbA1C**: any value ≥ 6.5\n",
    "\n",
    "Check the plot after you run the code, and see if you can reach the same conclusion that the participant had an abnormality in fasting glucose (glucose homeostasis), where the value is at 126 or above."
   ]
  },
  {
   "cell_type": "code",
   "execution_count": null,
   "id": "2bff858f",
   "metadata": {
    "id": "2bff858f"
   },
   "outputs": [],
   "source": [
    "df = pd.read_csv(\"data/41591_2019_414_MOESM5_ESM_3b.csv\")\n",
    "df"
   ]
  },
  {
   "cell_type": "code",
   "execution_count": null,
   "id": "2b9dcbfd",
   "metadata": {
    "id": "2b9dcbfd"
   },
   "outputs": [],
   "source": [
    "################################################# PLOTS ########################################################\n",
    "####### Plot the various data points\n",
    "\n",
    "# This instantiates an empty plot\n",
    "fig, ax = plt.subplots(figsize=(10, 5))\n",
    "\n",
    "# This plots the fasting plasma glucose (FPG) data points\n",
    "fpg, = ax.plot(df[\"Days\"], df['FPG (mg/dl)'].interpolate(), color=\"#F1C40F\", marker=\"o\")\n",
    "\n",
    "# This sets the FPG axis to range from 60 to 190\n",
    "ax.set_ylim(60, 190)\n",
    "\n",
    "# This adds labels to the Days and FPG axes\n",
    "ax.set_xlabel(\"Days in Study\", fontsize=12)\n",
    "ax.set_ylabel('FPG (mg/dl)', fontsize=12)\n",
    "\n",
    "# This plots the oral glucose tolerance test (OGTT) data points\n",
    "ogtt, = ax.plot(df[\"Days\"], df['OGTT_2HR (mg/dl)'], color=\"#3498DB\", marker=\"o\", markersize=10, linestyle=\"\")\n",
    "\n",
    "# This selects no rows and is just used as mock (empty) data in order to display \"SSPG\" on the legend\n",
    "sspg, = ax.plot(df[\"Days\"][:0], df[\"Days\"][:0], color=\"red\", marker=\"s\", markersize=10, linestyle=\"\")\n",
    "\n",
    "# This adds a separate y-axis to the right of the plot representing the hemoglobin (HbA1C) axis\n",
    "ax2 = ax.twinx()\n",
    "\n",
    "# This plots the the hemoglobin (HbA1C) data points\n",
    "a1c, = ax2.plot(df[\"Days\"], df['HbA1C (%)'].ffill(), color=\"lightgray\", marker=\"o\")\n",
    "\n",
    "# This sets the HbA1C axis to range from 5.0 to 8.0\n",
    "ax2.set_ylim(5.0, 8.0)\n",
    "\n",
    "# This adds labels to the (HbA1C) axis\n",
    "ax2.set_ylabel('HbA1C(%)', fontsize=12)\n",
    "\n",
    "\n",
    "\n",
    "############################################# LEGEND ##########################################################\n",
    "#####  This anchors a legend to the top of the plot representing the various measures  #####\n",
    "ax.legend(handles = [fpg, ogtt, sspg, a1c],\n",
    "           labels  = ['FPG', \"OGTT2HR\", \"SSPG\", \"HbA1C\"],\n",
    "           bbox_to_anchor=(0., 1.02, 1., .102), ncol=4,\n",
    "           mode=\"expand\", borderaxespad=0., fontsize=14);\n",
    "\n",
    "\n",
    "\n",
    "\n",
    "########################################## ANNOTATIONS ########################################################\n",
    "\n",
    "# Annotations for \"FPG (mg/dl)\" plot ###################################\n",
    "\n",
    "###### This gets various rows/data points to be displayed for \"FPG (mg/dl)\" from the dataset\n",
    "df_fpg = df.iloc[[0, 4, 5, 12, 14, 20]]\n",
    "\n",
    "#######  This loops through the various data points, adding text annotations ######\n",
    "xs = df_fpg[\"Days\"]\n",
    "ys = df_fpg[\"FPG (mg/dl)\"]\n",
    "\n",
    "# zip joins x and y coordinates into pairs\n",
    "for x,y in zip(xs,ys):\n",
    "    ax.text(x, y+5, \"{:.0f}\".format(y), color=\"black\", ha=\"center\", fontsize=14)\n",
    "\n",
    "# This displays the values in the diabetic range (FPG ≥ 126) as red\n",
    "x = df.loc[15, \"Days\"]\n",
    "y = df.loc[15, \"FPG (mg/dl)\"]\n",
    "ax.text(x-100, y+5, \"{}\".format(y), color=\"red\", ha=\"center\", fontsize=18)\n",
    "\n",
    "x = df.loc[16, \"Days\"]\n",
    "y = df.loc[16, \"FPG (mg/dl)\"]\n",
    "ax.text(x+30, y+5, \"{:.0f}\".format(y), color=\"red\", ha=\"center\", fontsize=18)\n",
    "\n",
    "x = df.loc[19, \"Days\"]\n",
    "y = df.loc[19, \"FPG (mg/dl)\"]\n",
    "ax.text(x+40, y-12, \"{:.0f}\".format(y), color=\"red\", ha=\"center\", fontsize=18)\n",
    "\n",
    "\n",
    "\n",
    "\n",
    "# Annotations for \"HbA1C(%)\" plot  ###################################\n",
    "\n",
    "###### This gets various non-diabetic rows/data points to be displayed\n",
    "df_ac1 = df.iloc[[1, 3, 4, 7, 13, 14, 16, 20]]\n",
    "\n",
    "# This loops through the \"HbA1C(%)\" data points and adds numerical annotations   #####################\n",
    "xs = df_ac1[\"Days\"]\n",
    "ys = df_ac1[\"HbA1C (%)\"]\n",
    "\n",
    "for x,y in zip(xs,ys):\n",
    "\n",
    "    label = \"{}\".format(y)\n",
    "\n",
    "    ax2.annotate(label, # this is the text\n",
    "                 (x,y), # these are the coordinates to position the label\n",
    "                 textcoords=\"offset points\", # how to position the text\n",
    "                 xytext=(0,-20), # distance from text to points (x,y) <-- place text below points\n",
    "                 ha='center', fontsize=14) # horizontal alignment can be left, right or center\n",
    "\n",
    "\n",
    "# This displays various values in the diabetic range (HbA1C ≥ 6.5) as red\n",
    "df_ac1 = df.iloc[[17, 18, 19]]\n",
    "xs = df_ac1[\"Days\"]\n",
    "ys = df_ac1[\"HbA1C (%)\"]\n",
    "\n",
    "for x,y in zip(xs,ys):\n",
    "\n",
    "    label = \"{}\".format(y)\n",
    "\n",
    "    ax2.annotate(\"{}\".format(y), (x, y), textcoords=\"offset points\",\n",
    "             xytext=(0,-10), color=\"red\", ha=\"center\", fontsize=14)\n",
    "\n",
    "\n",
    "# Annotations for \"OGTT_2HR\"  ###################################\n",
    "x = df.loc[0, \"Days\"]\n",
    "y = df.loc[0, \"OGTT_2HR (mg/dl)\"]\n",
    "ax.text(x, y+5, \"{}\".format(y), color=\"black\", ha=\"center\", fontsize=18)\n",
    "\n",
    "x = df.loc[15, \"Days\"]\n",
    "y = df.loc[15, \"OGTT_2HR (mg/dl)\"]\n",
    "ax.text(x, y-15, \"{}\".format(y), color=\"black\", ha=\"center\", fontsize=18)\n",
    "\n",
    "\n",
    "############## Arrow annotation ##############\n",
    "ax.annotate(\"Antibiotics\", xy=(220, 120), xytext=(200, 150),\n",
    "           arrowprops=dict(width=1, headwidth=10, headlength=15,\n",
    "                           color = \"black\"), horizontalalignment='center', fontsize=14);"
   ]
  },
  {
   "cell_type": "markdown",
   "id": "886d7fb6",
   "metadata": {
    "id": "886d7fb6"
   },
   "source": [
    "---"
   ]
  },
  {
   "cell_type": "markdown",
   "id": "0724fc47",
   "metadata": {
    "id": "0724fc47"
   },
   "source": [
    "## Figure 3c: Initial improvement followed by progression after viral infections\n",
    "\n",
    "We will use data from participant (ID:ZOZOWIT).\n",
    "\n",
    "We will label the values in diabetic range using the color red to make them stand out. The diabetic range for the tests are:\n",
    "- **FPG**: any value ≥ 126\n",
    "- **OGTT2HR**: any value ≥ 200\n",
    "- **SSPG**: any value ≥ 150\n",
    "- **HbA1C**: any value ≥ 6.5\n",
    "\n",
    "Check the plot after you run the code, and see whether it depicts the following:\n",
    "1. Participant had developed a diabetic range fasting glucose and hemoglobin A1C after a viral infection.\n",
    "2. Participant was able to bring these labs back to the normal range through lifestyle changes.\n",
    "3. After a second viral infection, they then developed elevated blood glucose levels, including fasting glucose, OGTT and HbA1C in the diabetic range."
   ]
  },
  {
   "cell_type": "code",
   "execution_count": null,
   "id": "59881d67",
   "metadata": {
    "id": "59881d67"
   },
   "outputs": [],
   "source": [
    "df = pd.read_csv(\"data/41591_2019_414_MOESM5_ESM_3c.csv\")\n",
    "df"
   ]
  },
  {
   "cell_type": "code",
   "execution_count": null,
   "id": "a420add2",
   "metadata": {
    "id": "a420add2"
   },
   "outputs": [],
   "source": [
    "################### PLOTS #############################\n",
    "####### Plot the various data points\n",
    "\n",
    "# This instantiates an empty plot\n",
    "fig,ax = plt.subplots(figsize=(10, 5))\n",
    "\n",
    "\n",
    "# This plots the fasting plasma glucose (FPG) data points\n",
    "fpg, = ax.plot(df[\"Days\"], df['FPG (mg/dl)'], color=\"#F1C40F\", marker=\"o\")\n",
    "\n",
    "# This sets the FPG axis to range from 50 to 250\n",
    "ax.set_ylim(50, 250)\n",
    "\n",
    "# This adds labels to the Days and FPG axes\n",
    "ax.set_xlabel(\"Days in Study\", fontsize=12)\n",
    "ax.set_ylabel('FPG (mg/dl)', fontsize=12)\n",
    "\n",
    "# This plots the oral glucose tolerance test (OGTT) data points\n",
    "ogtt, = ax.plot(df[\"Days\"], df['OGTT_2HR (mg/dl)'], color=\"#3498DB\", marker=\"o\", markersize=10, linestyle=\"\")\n",
    "\n",
    "# This plots the insulin suppression test (SSPG) data points\n",
    "sspg, = ax.plot(df[\"Days\"], df['SSPG (mg/dl)'], color=\"red\", marker=\"s\", markersize=10, linestyle=\"\")\n",
    "\n",
    "# This adds a separate y-axis to the right of the plot representing the hemoglobin (HbA1C) axis\n",
    "ax2 = ax.twinx()\n",
    "\n",
    "\n",
    "# This plots the the hemoglobin (HbA1C) data points\n",
    "a1c, = ax2.plot(df[\"Days\"], df['A1C (%)'], color=\"lightgray\", marker=\"o\")\n",
    "\n",
    "# This sets the HbA1C axis to range from 3.0 to 7.5\n",
    "ax2.set_ylim(3.0, 7.5)\n",
    "\n",
    "# This adds labels to the (HbA1C) axis\n",
    "ax2.set_ylabel('HbA1C(%)', fontsize=12)\n",
    "\n",
    "\n",
    "\n",
    "########################################## LEGEND ##########################################\n",
    "#####  This anchors a legend to the top of the plot representing the various measures  #####\n",
    "ax.legend(handles = [fpg, ogtt, sspg, a1c],\n",
    "           labels  = ['FPG', \"OGTT2HR\", \"SSPG\", \"HbA1C\"],\n",
    "           bbox_to_anchor=(0., 1.02, 1., .102), ncol=4,\n",
    "           mode=\"expand\", borderaxespad=0., fontsize=14);\n",
    "\n",
    "\n",
    "\n",
    "\n",
    "########################################## ANNOTATIONS ########################################################\n",
    "\n",
    "# Annotations for \"SSPG\" plot  ###################################\n",
    "\n",
    "x = df.loc[6, \"Days\"]\n",
    "y = df.loc[6, \"SSPG (mg/dl)\"]\n",
    "ax.text(x-150, y, \"{:.0f}\".format(y), color=\"black\", ha=\"center\", fontsize=14)\n",
    "\n",
    "x = df.loc[63, \"Days\"]\n",
    "y = df.loc[63, \"SSPG (mg/dl)\"]\n",
    "ax.text(x+30, y-15, \"{}\".format(y), color=\"black\", ha=\"center\", fontsize=14)\n",
    "\n",
    "\n",
    "# Annotations for \"OGTT_2HR\" plot  ###################################\n",
    "# This displays the values in the diabetic range (OGTT2HR ≥ 200) as red\n",
    "\n",
    "x = df.loc[50, \"Days\"]\n",
    "y = df.loc[50, \"OGTT_2HR (mg/dl)\"]\n",
    "ax.text(x, y+10, \"{:.0f}\".format(y), color=\"red\", ha=\"center\", fontsize=18)\n",
    "\n",
    "x = df.loc[167, \"Days\"]\n",
    "y = df.loc[167, \"OGTT_2HR (mg/dl)\"]\n",
    "ax.text(x-150, y-5, \"{:.0f}\".format(y), color=\"red\", ha=\"center\", fontsize=18)\n",
    "\n",
    "\n",
    "\n",
    "# Annotations for \"FPG (mg/dl)\" plot ###################################\n",
    "\n",
    "# This loops through the data and displays various values in the diabetic range (FPG ≥ 126) as red\n",
    "# In other words, the FPG values for samples 0, 6, 57, and 138 are shown. Those in the diabetic range are displayed in red\n",
    "xs = df.loc[[0, 6, 57, 138], \"Days\"]\n",
    "ys = df.loc[[0, 6, 57, 138], \"FPG (mg/dl)\"]\n",
    "\n",
    "\n",
    "for x,y in zip(xs,ys):\n",
    "    color = \"black\"\n",
    "    textsize=14\n",
    "    space=70\n",
    "    if x > 0:\n",
    "        color = \"red\"\n",
    "        textsize = 18\n",
    "        space=120\n",
    "    ax.text(x-space, y, \"{:.0f}\".format(y), color=color, ha=\"center\", fontsize=textsize)\n",
    "\n",
    "\n",
    "\n",
    "# Annotations for \"HbA1C(%)\" plot  ###################################\n",
    "# The A1C values for samples 7, 8, 10, 13, 39, 56, 92, and 142 are shown. The values in the diabetic range (i.e., ≥ 6.5) are displayed in red.\n",
    "xs = df.loc[[7, 8, 10, 13, 39, 56, 92, 142], \"Days\"]\n",
    "ys = df.loc[[7, 8, 10, 13, 39, 56, 92, 142], \"A1C (%)\"]\n",
    "\n",
    "# This loops through the data and displays various values in the diabetic range (HbA1C ≥ 6.5) as red\n",
    "for x,y in zip(xs,ys):\n",
    "    color = \"black\"\n",
    "    textsize=14\n",
    "    if y >= 6.5:\n",
    "        color = \"red\"\n",
    "        textsize = 18\n",
    "    ax2.text(x, y+.1, \"{}\".format(y), color=color, ha=\"center\", fontsize=textsize)\n",
    "\n",
    "\n",
    "################################### Arrow annotations ###################################\n",
    "ax.annotate(\"Viral infection\", xy=(300, 90), xytext=(300, 60),\n",
    "           arrowprops=dict(width=1, headwidth=10, headlength=15,\n",
    "                           color = \"black\"), horizontalalignment='center', fontsize=12);\n",
    "\n",
    "ax.annotate(\"Lifestyle change\", xy=(350, 155), xytext=(50, 180),\n",
    "           arrowprops=dict(width=1, headwidth=10, headlength=15,\n",
    "                           color = \"black\"), horizontalalignment='left', fontsize=12);\n",
    "\n",
    "ax.annotate(\"Viral infection\", xy=(980, 190), xytext=(900, 225),\n",
    "           arrowprops=dict(width=1, headwidth=10, headlength=15,\n",
    "                           color = \"black\"), horizontalalignment='center', fontsize=12);"
   ]
  },
  {
   "cell_type": "markdown",
   "id": "cf9db171",
   "metadata": {
    "id": "cf9db171"
   },
   "source": [
    "---"
   ]
  },
  {
   "cell_type": "markdown",
   "id": "8ee9436e",
   "metadata": {
    "id": "8ee9436e"
   },
   "source": [
    "# Contributions & acknowledgement"
   ]
  },
  {
   "cell_type": "markdown",
   "id": "fa9b2142",
   "metadata": {
    "id": "fa9b2142"
   },
   "source": [
    "Thank the following team to work on this module:\n",
    "\n",
    "- **Module Content:** Antony Ross, Sophia Miryam Schussler-Fiorenza Rose\n",
    "- **Engineering:** Amit Dixit\n",
    "- **UX/UI Design & Illustration:** Kexin Cha\n",
    "- **Video Production:** Francesca Goncalves\n",
    "- **Project Management:** Amir Bahmani, Kexin Cha"
   ]
  },
  {
   "cell_type": "markdown",
   "id": "f17963fc",
   "metadata": {
    "id": "f17963fc"
   },
   "source": [
    "---"
   ]
  },
  {
   "cell_type": "markdown",
   "id": "340a368a",
   "metadata": {
    "id": "340a368a"
   },
   "source": [
    "Copyright (c) 2022 Stanford Data Ocean (SDO)\n",
    "\n",
    "All rights reserved."
   ]
  }
 ],
 "metadata": {
  "colab": {
   "provenance": []
  },
  "kernelspec": {
   "display_name": "Python 3 (ipykernel)",
   "language": "python",
   "name": "python3"
  },
  "language_info": {
   "codemirror_mode": {
    "name": "ipython",
    "version": 3
   },
   "file_extension": ".py",
   "mimetype": "text/x-python",
   "name": "python",
   "nbconvert_exporter": "python",
   "pygments_lexer": "ipython3",
   "version": "3.10.13"
  }
 },
 "nbformat": 4,
 "nbformat_minor": 5
}
